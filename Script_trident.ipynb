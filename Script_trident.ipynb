{
 "cells": [
  {
   "cell_type": "code",
   "execution_count": 14,
   "id": "34KU6PctYQ-L",
   "metadata": {
    "colab": {
     "base_uri": "https://localhost:8080/"
    },
    "executionInfo": {
     "elapsed": 2120,
     "status": "ok",
     "timestamp": 1669890616373,
     "user": {
      "displayName": "victor deg",
      "userId": "06669311549579221635"
     },
     "user_tz": -60
    },
    "id": "34KU6PctYQ-L",
    "outputId": "0094d1b1-598f-4c71-9495-98c94820dba7"
   },
   "outputs": [],
   "source": [
    "#from google.colab import drive\n",
    "#drive.mount(\"/content/drive\")"
   ]
  },
  {
   "cell_type": "code",
   "execution_count": 31,
   "id": "EQXBEr_iajjT",
   "metadata": {
    "colab": {
     "base_uri": "https://localhost:8080/"
    },
    "executionInfo": {
     "elapsed": 5501,
     "status": "ok",
     "timestamp": 1669890506739,
     "user": {
      "displayName": "victor deg",
      "userId": "06669311549579221635"
     },
     "user_tz": -60
    },
    "id": "EQXBEr_iajjT",
    "outputId": "c02a9265-1c07-43df-e8a9-1f68827de5ac",
    "scrolled": true
   },
   "outputs": [
    {
     "name": "stdout",
     "output_type": "stream",
     "text": [
      "Collecting matplotlib_venn\n",
      "  Downloading matplotlib-venn-0.11.7.tar.gz (29 kB)\n",
      "Requirement already satisfied: matplotlib in /home/zaki4/.local/lib/python3.8/site-packages (from matplotlib_venn) (3.6.2)\n",
      "Requirement already satisfied: numpy in /home/zaki4/.local/lib/python3.8/site-packages (from matplotlib_venn) (1.23.4)\n",
      "Requirement already satisfied: scipy in /home/zaki4/.local/lib/python3.8/site-packages (from matplotlib_venn) (1.9.3)\n",
      "Requirement already satisfied: pyparsing>=2.2.1 in /home/zaki4/.local/lib/python3.8/site-packages (from matplotlib->matplotlib_venn) (3.0.9)\n",
      "Requirement already satisfied: contourpy>=1.0.1 in /home/zaki4/.local/lib/python3.8/site-packages (from matplotlib->matplotlib_venn) (1.0.5)\n",
      "Requirement already satisfied: fonttools>=4.22.0 in /home/zaki4/.local/lib/python3.8/site-packages (from matplotlib->matplotlib_venn) (4.38.0)\n",
      "Requirement already satisfied: pillow>=6.2.0 in /home/zaki4/.local/lib/python3.8/site-packages (from matplotlib->matplotlib_venn) (9.2.0)\n",
      "Requirement already satisfied: kiwisolver>=1.0.1 in /home/zaki4/.local/lib/python3.8/site-packages (from matplotlib->matplotlib_venn) (1.4.4)\n",
      "Requirement already satisfied: packaging>=20.0 in /home/zaki4/.local/lib/python3.8/site-packages (from matplotlib->matplotlib_venn) (21.3)\n",
      "Requirement already satisfied: cycler>=0.10 in /home/zaki4/.local/lib/python3.8/site-packages (from matplotlib->matplotlib_venn) (0.11.0)\n",
      "Requirement already satisfied: python-dateutil>=2.7 in /home/zaki4/.local/lib/python3.8/site-packages (from matplotlib->matplotlib_venn) (2.8.2)\n",
      "Requirement already satisfied: six>=1.5 in /usr/lib/python3/dist-packages (from python-dateutil>=2.7->matplotlib->matplotlib_venn) (1.14.0)\n",
      "Building wheels for collected packages: matplotlib-venn\n",
      "  Building wheel for matplotlib-venn (setup.py) ... \u001b[?25ldone\n",
      "\u001b[?25h  Created wheel for matplotlib-venn: filename=matplotlib_venn-0.11.7-py3-none-any.whl size=32154 sha256=617a12a1147fdacdd9f83b0ff9046733eda3fa9f53cfe6ad9a64663d57ec1e8e\n",
      "  Stored in directory: /home/zaki4/.cache/pip/wheels/fb/24/13/4c7b7f4121843c2fc7c5d6b4b1e3ab57be33428997761f996f\n",
      "Successfully built matplotlib-venn\n",
      "Installing collected packages: matplotlib-venn\n",
      "Successfully installed matplotlib-venn-0.11.7\n"
     ]
    }
   ],
   "source": [
    "#!pip install adjustText\n",
    "!pip install matplotlib_venn"
   ]
  },
  {
   "cell_type": "code",
   "execution_count": 16,
   "id": "excessive-space",
   "metadata": {
    "executionInfo": {
     "elapsed": 1270,
     "status": "ok",
     "timestamp": 1669890623220,
     "user": {
      "displayName": "victor deg",
      "userId": "06669311549579221635"
     },
     "user_tz": -60
    },
    "id": "excessive-space"
   },
   "outputs": [],
   "source": [
    "import matplotlib.pyplot as plt\n",
    "import pandas as pd\n",
    "pd.options.mode.chained_assignment = None\n",
    "import numpy as np\n",
    "import seaborn as sn\n",
    "\n",
    "#from adjustText import adjust_text # Evite les labels superposés\n",
    "\n",
    "from ipywidgets import interact, interactive, fixed, interact_manual\n",
    "import ipywidgets as widgets\n",
    "from matplotlib.lines import Line2D\n",
    "import os\n"
   ]
  },
  {
   "cell_type": "code",
   "execution_count": 17,
   "id": "KuvtAKXWYqGE",
   "metadata": {
    "executionInfo": {
     "elapsed": 245,
     "status": "ok",
     "timestamp": 1669890626849,
     "user": {
      "displayName": "victor deg",
      "userId": "06669311549579221635"
     },
     "user_tz": -60
    },
    "id": "KuvtAKXWYqGE"
   },
   "outputs": [],
   "source": [
    "#path = \"/content/drive/MyDrive/Projet M2/\"\n",
    "path = \"./\""
   ]
  },
  {
   "cell_type": "code",
   "execution_count": null,
   "id": "42b44663",
   "metadata": {},
   "outputs": [],
   "source": []
  },
  {
   "cell_type": "code",
   "execution_count": null,
   "id": "Q3nbZRE1O35V",
   "metadata": {
    "colab": {
     "base_uri": "https://localhost:8080/",
     "height": 1000
    },
    "executionInfo": {
     "elapsed": 7286,
     "status": "ok",
     "timestamp": 1669890559498,
     "user": {
      "displayName": "victor deg",
      "userId": "06669311549579221635"
     },
     "user_tz": -60
    },
    "id": "Q3nbZRE1O35V",
    "outputId": "6fcf84aa-d234-4615-fc90-6f7b54dbb2e7"
   },
   "outputs": [],
   "source": []
  },
  {
   "cell_type": "code",
   "execution_count": null,
   "id": "LpVbV6i0OyIN",
   "metadata": {
    "executionInfo": {
     "elapsed": 679,
     "status": "ok",
     "timestamp": 1669890630455,
     "user": {
      "displayName": "victor deg",
      "userId": "06669311549579221635"
     },
     "user_tz": -60
    },
    "id": "LpVbV6i0OyIN"
   },
   "outputs": [],
   "source": []
  },
  {
   "cell_type": "code",
   "execution_count": 18,
   "id": "1bpzslkcRht2",
   "metadata": {
    "colab": {
     "base_uri": "https://localhost:8080/",
     "height": 128
    },
    "executionInfo": {
     "elapsed": 7161,
     "status": "ok",
     "timestamp": 1669891366981,
     "user": {
      "displayName": "victor deg",
      "userId": "06669311549579221635"
     },
     "user_tz": -60
    },
    "id": "1bpzslkcRht2",
    "outputId": "7f6f48fd-4ac3-47f4-9b4a-5ad295634a6f"
   },
   "outputs": [],
   "source": [
    "#nbi.publish('victor/nbinteract-image/master', '/content/drive/MyDrive/Projet M2/Script.ipynb')"
   ]
  },
  {
   "cell_type": "markdown",
   "id": "ranking-operation",
   "metadata": {
    "id": "ranking-operation"
   },
   "source": [
    "# Transcripto"
   ]
  },
  {
   "cell_type": "code",
   "execution_count": 19,
   "id": "common-occasion",
   "metadata": {
    "executionInfo": {
     "elapsed": 240,
     "status": "ok",
     "timestamp": 1669890690568,
     "user": {
      "displayName": "victor deg",
      "userId": "06669311549579221635"
     },
     "user_tz": -60
    },
    "id": "common-occasion"
   },
   "outputs": [],
   "source": [
    "def volcano_plot(file, pval, l2FC_up, l2FC_down, label_up, label_down):\n",
    "    \n",
    "    data = pd.read_csv(path + f\"Transcriptomic/{file}\", sep='\\t')\n",
    "    data[\"-log10\"] = -(np.log10(data[\"padj\"]))\n",
    "    data = pd.DataFrame.dropna(data)\n",
    "    data[\"diffexpressed\"] = \"NO\"\n",
    "    # if log2Foldchange > 2 and pvalue < 0.05, set as \"UP\" \n",
    "    data[\"diffexpressed\"][(data[\"log2FoldChange\"] > l2FC_up) & (data[\"padj\"] < pval)] = \"UP\"\n",
    "    # if log2Foldchange < -0.6 and pvalue < 0.05, set as \"DOWN\"\n",
    "    data[\"diffexpressed\"][(data[\"log2FoldChange\"] < l2FC_down) & (data[\"padj\"] < pval)] = \"DOWN\"\n",
    "    data[\"diffexpressed\"][(data[\"log2FoldChange\"] > -1) & (data[\"log2FoldChange\"] < 1)] = \"NONE\"\n",
    "    data[\"label\"] = np.nan\n",
    "    data[\"label\"][data[\"diffexpressed\"] != \"NO\"] = data[\"symbol\"][data[\"diffexpressed\"] != \"NO\"]\n",
    "    mycolors = []\n",
    "    labels={'UP': 'red','DOWN':'blue','NO':'grey'}\n",
    "    for i in data['diffexpressed']:\n",
    "        if i == 'NONE':\n",
    "            mycolors.append('white')\n",
    "        elif i == 'UP':\n",
    "            mycolors.append('red')\n",
    "        elif i == 'DOWN':\n",
    "            mycolors.append('blue')\n",
    "        elif i == \"NO\":\n",
    "            mycolors.append('grey')\n",
    "    \n",
    "    fig, ax = plt.subplots(figsize=(15,10))\n",
    "\n",
    "    x = data['log2FoldChange']\n",
    "    y = data['-log10']\n",
    "    n = data[\"symbol\"]\n",
    "    texte = []\n",
    "\n",
    "    ax.scatter(x, y, c=mycolors)\n",
    "\n",
    "    for i, txt in enumerate(n):\n",
    "        if (x.iloc[i] > label_up and y.iloc[i] > label_up) or (x.iloc[i] < label_down and y.iloc[i] > label_up):\n",
    "            texte += [ax.text(x.iloc[i], y.iloc[i],txt)]\n",
    "\n",
    "    ax.set_xlabel(\"log2FoldChange\",fontsize=22)\n",
    "    ax.set_ylabel(\"-log10\",fontsize=22)\n",
    "    legend_elements = [Line2D([0], [0], marker='o',color='w', label='UP',markerfacecolor='red', markersize=15),\n",
    "                   Line2D([0], [0], marker='o', color='w', label='Down',markerfacecolor='blue', markersize=15),\n",
    "                   Line2D([0], [0], marker='o', color='w', label='NO',markerfacecolor='grey', markersize=15)]\n",
    "    ax.legend(handles=legend_elements, title=\"Expression\", loc=\"upper left\")\n",
    "    #adjust_text(texte)\n",
    "    return plt.show() \n"
   ]
  },
  {
   "cell_type": "code",
   "execution_count": 20,
   "id": "mighty-designer",
   "metadata": {
    "colab": {
     "base_uri": "https://localhost:8080/",
     "height": 825,
     "referenced_widgets": [
      "824bff82960f461ea7805af8cc23dc06",
      "67daf8b547964e1bb12e44a1638125aa",
      "f326be6950f44350aa9eb5fc95cc2f1e",
      "937fc1fbe20b4703bf59265c820e8440",
      "fd3bda305b354ba58a295f2abcf235cf",
      "cfd64967c6ed4210ab5cf2edec79953b",
      "0dd6e713c1af4bafa776cf48c4fa754c",
      "4f44b73b68aa402cac04e8cd98fb670d",
      "ef8d4622552947549ed5a3d56b328fe5",
      "6b50c3046ad541dfa0717ce7d860e629",
      "3b3ee7e3755143fc98aaed6da969b114",
      "943e50a31bb6440d95034d0ba42cff76",
      "3cde30f597b640d29e5cecf39733f65d",
      "65134eff8f44456293608e43c2ed4b6d",
      "a3bcfbf8e5e34a35b6995d8aa0cd98fd",
      "b180cfcdcdec45b1ac88a8adb1d853c8",
      "da99d4c0b1384434aaba6d63f8eb92cd",
      "50ff9da9503f4e929ef9c052efef2213",
      "47df73707a49459b8017953f05f91715",
      "ca54b297e6ec41c8889793e1de5464d3",
      "8488c7bb7434498187e522785620213b",
      "33a50f2df17d4be8bc577882b52933c7"
     ]
    },
    "executionInfo": {
     "elapsed": 2559,
     "status": "ok",
     "timestamp": 1669891317873,
     "user": {
      "displayName": "victor deg",
      "userId": "06669311549579221635"
     },
     "user_tz": -60
    },
    "id": "mighty-designer",
    "outputId": "ab67925e-60df-435e-d546-f2973a7210b6"
   },
   "outputs": [
    {
     "data": {
      "application/vnd.jupyter.widget-view+json": {
       "model_id": "4d04636034de4e2a98496dbee3927270",
       "version_major": 2,
       "version_minor": 0
      },
      "text/plain": [
       "interactive(children=(Dropdown(description='file', options=('all_de_j2_vs_j0_allgenes.txt', 'all_de_j4_vs_j0_a…"
      ]
     },
     "metadata": {},
     "output_type": "display_data"
    },
    {
     "data": {
      "text/plain": [
       "<function __main__.volcano_plot(file, pval, l2FC_up, l2FC_down, label_up, label_down)>"
      ]
     },
     "execution_count": 20,
     "metadata": {},
     "output_type": "execute_result"
    }
   ],
   "source": [
    "element = os.listdir(path + \"Transcriptomic/\")\n",
    "file = []\n",
    "for elm in element:\n",
    "    if elm.endswith(\".txt\"):\n",
    "        file.append(elm)\n",
    "interact(volcano_plot,file=file, pval =(-0.5,0.5,0.05), l2FC_up=(1,10,0.5), l2FC_down=(-10,-1,0.5), \n",
    "         label_up=(5,10,1), label_down=(-10,-1,1))"
   ]
  },
  {
   "cell_type": "markdown",
   "id": "purple-coupon",
   "metadata": {
    "id": "purple-coupon"
   },
   "source": [
    "# Proteo"
   ]
  },
  {
   "cell_type": "code",
   "execution_count": 21,
   "id": "described-rescue",
   "metadata": {
    "executionInfo": {
     "elapsed": 229,
     "status": "ok",
     "timestamp": 1669891321836,
     "user": {
      "displayName": "victor deg",
      "userId": "06669311549579221635"
     },
     "user_tz": -60
    },
    "id": "described-rescue"
   },
   "outputs": [],
   "source": [
    "def volcano_plot_prot(file,  pval, l2FC_up, l2FC_down):\n",
    "    \n",
    "    data = pd.read_csv(path + f\"Proteomique/{file}\", sep='\\t', skiprows=1)\n",
    "    data[\"-log10\"] = -(np.log10(data[\"Abundance Ratio Adj. P-Value: (T48h) / (T0)\"]))\n",
    "    #data = pd.DataFrame.dropna(data)\n",
    "    data[\"diffexpressed\"] = \"NO\"\n",
    "    # if log2Foldchange > 2 and pvalue < 0.05, set as \"UP\" \n",
    "    data[\"diffexpressed\"][(data[\"Abundance Ratio (log2): (T48h) / (T0)\"] > l2FC_up) & (data[\"Abundance Ratio Adj. P-Value: (T48h) / (T0)\"] < pval)] = \"UP\"\n",
    "    # if log2Foldchange < -0.6 and pvalue < 0.05, set as \"DOWN\"\n",
    "    data[\"diffexpressed\"][(data[\"Abundance Ratio (log2): (T48h) / (T0)\"] < l2FC_down) & (data[\"Abundance Ratio Adj. P-Value: (T48h) / (T0)\"] < pval)] = \"DOWN\"\n",
    "    data[\"diffexpressed\"][(data[\"Abundance Ratio (log2): (T48h) / (T0)\"] > -1) & (data[\"Abundance Ratio (log2): (T48h) / (T0)\"] < 1)] = \"NONE\"\n",
    "    data[\"label\"] = np.nan\n",
    "    data[\"label\"][data[\"diffexpressed\"] != \"NO\"] = data[\"Gene Symbol\"][data[\"diffexpressed\"] != \"NO\"]\n",
    "    mycolors = []\n",
    "\n",
    "    for i in data['diffexpressed']:\n",
    "        if i == 'NONE':\n",
    "            mycolors.append('grey')\n",
    "        elif i == 'UP':\n",
    "            mycolors.append('red')\n",
    "        elif i == 'DOWN':\n",
    "            mycolors.append('blue')\n",
    "        elif i == \"NO\":\n",
    "            mycolors.append('grey')\n",
    "\n",
    "    fig, ax = plt.subplots(figsize=(15,10))\n",
    "\n",
    "    x = data['Abundance Ratio (log2): (T48h) / (T0)']\n",
    "    y = data['-log10']\n",
    "    n = data[\"Gene Symbol\"]\n",
    "    texte = []\n",
    "\n",
    "    ax.scatter(x, y, c=mycolors)\n",
    "\n",
    "    for i, txt in enumerate(n):\n",
    "        if (x.iloc[i] > 2 and y.iloc[i] > 2) or (x.iloc[i] < -2 and y.iloc[i] > 2):\n",
    "            texte += [ax.text(x.iloc[i], y.iloc[i],txt)]\n",
    "\n",
    "    ax.set_xlabel(\"log2FoldChange\",fontsize=22)\n",
    "    ax.set_ylabel(\"-log10\",fontsize=22)\n",
    "    legend_elements = [Line2D([0], [0], marker='o',color='w', label='UP',markerfacecolor='red', markersize=15),\n",
    "                   Line2D([0], [0], marker='o', color='w', label='Down',markerfacecolor='blue', markersize=15),\n",
    "                   Line2D([0], [0], marker='o', color='w', label='NO',markerfacecolor='grey', markersize=15)]\n",
    "    ax.legend(handles=legend_elements, title=\"Expression\", loc=\"upper left\")\n",
    "    #adjust_text(texte)\n",
    "    return plt.show()"
   ]
  },
  {
   "cell_type": "code",
   "execution_count": 22,
   "id": "antique-intention",
   "metadata": {
    "colab": {
     "base_uri": "https://localhost:8080/",
     "height": 831,
     "referenced_widgets": [
      "db25a58a6d6943fbb9e13c6c170d425e",
      "61b629262e034631bb540f5c3550877e",
      "9b81006f71d14323ba9eb7725101a6fc",
      "9b6bfe918c3b45e1aabd1a4b80622925",
      "023a8153d9d84420846b64af7e52aeeb",
      "83adf03277554836bf50a3e36730ac3f",
      "794eca2ed341415dacefb1abff46d059",
      "3250b6c9252046dfb1e04d04d3a1e583",
      "944ba176e180490d9ccf2481c46960c5",
      "a276dd5fbf014f4488980192ba3dc62e",
      "6f630767128b4e7a9b7a0d831e8da1d3",
      "5cf4edfaa8484bea8e32ab508121e012",
      "dcee4f4beb284fc6a22f7ebb9f5362db",
      "f0c3737321584dcca111767454c3bede",
      "2f737ce1c1694d28ac6e0d8c89073e87",
      "36a2b9a3147c487b819cf60428f91e51"
     ]
    },
    "executionInfo": {
     "elapsed": 1647,
     "status": "ok",
     "timestamp": 1669891326557,
     "user": {
      "displayName": "victor deg",
      "userId": "06669311549579221635"
     },
     "user_tz": -60
    },
    "id": "antique-intention",
    "outputId": "65116bcd-a701-48e0-d5c5-79d16b47dddf"
   },
   "outputs": [
    {
     "name": "stdout",
     "output_type": "stream",
     "text": [
      "Experience1.txt\n",
      "Experience2.txt\n",
      "Experience_1\n",
      "Experience_2\n"
     ]
    },
    {
     "data": {
      "application/vnd.jupyter.widget-view+json": {
       "model_id": "178fa6c605834611a5e4518794f78214",
       "version_major": 2,
       "version_minor": 0
      },
      "text/plain": [
       "interactive(children=(Dropdown(description='file', options=('Experience1.txt', 'Experience2.txt'), value='Expe…"
      ]
     },
     "metadata": {},
     "output_type": "display_data"
    },
    {
     "data": {
      "text/plain": [
       "<function __main__.volcano_plot_prot(file, pval, l2FC_up, l2FC_down)>"
      ]
     },
     "execution_count": 22,
     "metadata": {},
     "output_type": "execute_result"
    }
   ],
   "source": [
    "element = os.listdir(path + \"Proteomique/\")\n",
    "\n",
    "file = []\n",
    "for elm in element:\n",
    "  print(elm)\n",
    "  if elm.endswith(\".txt\"):\n",
    "    file.append(elm)\n",
    "interact(volcano_plot_prot,file=file, pval =(-0.5,0.5,0.05), l2FC_up=(1,10,0.5), l2FC_down=(-10,-1,0.5))"
   ]
  },
  {
   "cell_type": "code",
   "execution_count": 23,
   "id": "charming-valuable",
   "metadata": {
    "colab": {
     "base_uri": "https://localhost:8080/",
     "height": 745
    },
    "executionInfo": {
     "elapsed": 237,
     "status": "ok",
     "timestamp": 1669891329637,
     "user": {
      "displayName": "victor deg",
      "userId": "06669311549579221635"
     },
     "user_tz": -60
    },
    "id": "charming-valuable",
    "outputId": "e79a137d-6ba8-4df4-e036-0c4abeff03a9"
   },
   "outputs": [
    {
     "data": {
      "text/html": [
       "<div>\n",
       "<style scoped>\n",
       "    .dataframe tbody tr th:only-of-type {\n",
       "        vertical-align: middle;\n",
       "    }\n",
       "\n",
       "    .dataframe tbody tr th {\n",
       "        vertical-align: top;\n",
       "    }\n",
       "\n",
       "    .dataframe thead th {\n",
       "        text-align: right;\n",
       "    }\n",
       "</style>\n",
       "<table border=\"1\" class=\"dataframe\">\n",
       "  <thead>\n",
       "    <tr style=\"text-align: right;\">\n",
       "      <th></th>\n",
       "      <th>Accession</th>\n",
       "      <th>Description</th>\n",
       "      <th>Gene Symbol</th>\n",
       "      <th>Abundance Ratio (log2): (T48h) / (T0)</th>\n",
       "      <th>Abundance Ratio (log2): (T96h) / (T0)</th>\n",
       "      <th>Abundance Ratio (log2): (T96h) / (T48h)</th>\n",
       "      <th>Abundance Ratio Adj. P-Value: (T48h) / (T0)</th>\n",
       "      <th>Abundance Ratio Adj. P-Value: (T96h) / (T0)</th>\n",
       "      <th>Abundance Ratio Adj. P-Value: (T96h) / (T48h)</th>\n",
       "    </tr>\n",
       "  </thead>\n",
       "  <tbody>\n",
       "    <tr>\n",
       "      <th>1585</th>\n",
       "      <td>Q5SYB0</td>\n",
       "      <td>FERM and PDZ domain-containing protein 1 OS=Ho...</td>\n",
       "      <td>FRMPD1</td>\n",
       "      <td>-2.17</td>\n",
       "      <td>-2.46</td>\n",
       "      <td>-0.32</td>\n",
       "      <td>1.410630e-15</td>\n",
       "      <td>0.000342</td>\n",
       "      <td>0.991557</td>\n",
       "    </tr>\n",
       "    <tr>\n",
       "      <th>357</th>\n",
       "      <td>P22352</td>\n",
       "      <td>Glutathione peroxidase 3 OS=Homo sapiens OX=96...</td>\n",
       "      <td>GPX3</td>\n",
       "      <td>-1.93</td>\n",
       "      <td>-2.31</td>\n",
       "      <td>-0.41</td>\n",
       "      <td>1.410630e-15</td>\n",
       "      <td>0.000958</td>\n",
       "      <td>0.964612</td>\n",
       "    </tr>\n",
       "    <tr>\n",
       "      <th>50</th>\n",
       "      <td>P01031</td>\n",
       "      <td>Complement C5 OS=Homo sapiens OX=9606 GN=C5 PE...</td>\n",
       "      <td>C5</td>\n",
       "      <td>-1.64</td>\n",
       "      <td>-1.45</td>\n",
       "      <td>0.17</td>\n",
       "      <td>5.607040e-11</td>\n",
       "      <td>0.100866</td>\n",
       "      <td>0.948476</td>\n",
       "    </tr>\n",
       "    <tr>\n",
       "      <th>336</th>\n",
       "      <td>Q9BXR6</td>\n",
       "      <td>Complement factor H-related protein 5 OS=Homo ...</td>\n",
       "      <td>CFHR5</td>\n",
       "      <td>-1.64</td>\n",
       "      <td>-1.64</td>\n",
       "      <td>-0.04</td>\n",
       "      <td>5.637270e-11</td>\n",
       "      <td>0.046413</td>\n",
       "      <td>0.991557</td>\n",
       "    </tr>\n",
       "    <tr>\n",
       "      <th>1614</th>\n",
       "      <td>Q9NVG8</td>\n",
       "      <td>TBC1 domain family member 13 OS=Homo sapiens O...</td>\n",
       "      <td>TBC1D13</td>\n",
       "      <td>-1.63</td>\n",
       "      <td>-1.02</td>\n",
       "      <td>0.54</td>\n",
       "      <td>1.233610e-12</td>\n",
       "      <td>0.396246</td>\n",
       "      <td>0.482357</td>\n",
       "    </tr>\n",
       "    <tr>\n",
       "      <th>...</th>\n",
       "      <td>...</td>\n",
       "      <td>...</td>\n",
       "      <td>...</td>\n",
       "      <td>...</td>\n",
       "      <td>...</td>\n",
       "      <td>...</td>\n",
       "      <td>...</td>\n",
       "      <td>...</td>\n",
       "      <td>...</td>\n",
       "    </tr>\n",
       "    <tr>\n",
       "      <th>1635</th>\n",
       "      <td>Q9BXS5</td>\n",
       "      <td>AP-1 complex subunit mu-1 OS=Homo sapiens OX=9...</td>\n",
       "      <td>AP1M1</td>\n",
       "      <td>NaN</td>\n",
       "      <td>NaN</td>\n",
       "      <td>NaN</td>\n",
       "      <td>NaN</td>\n",
       "      <td>NaN</td>\n",
       "      <td>NaN</td>\n",
       "    </tr>\n",
       "    <tr>\n",
       "      <th>1638</th>\n",
       "      <td>Q8N9N7</td>\n",
       "      <td>Leucine-rich repeat-containing protein 57 OS=H...</td>\n",
       "      <td>LRRC57</td>\n",
       "      <td>NaN</td>\n",
       "      <td>NaN</td>\n",
       "      <td>NaN</td>\n",
       "      <td>NaN</td>\n",
       "      <td>NaN</td>\n",
       "      <td>NaN</td>\n",
       "    </tr>\n",
       "    <tr>\n",
       "      <th>1644</th>\n",
       "      <td>O75792</td>\n",
       "      <td>Ribonuclease H2 subunit A OS=Homo sapiens OX=9...</td>\n",
       "      <td>RNASEH2A</td>\n",
       "      <td>NaN</td>\n",
       "      <td>NaN</td>\n",
       "      <td>NaN</td>\n",
       "      <td>NaN</td>\n",
       "      <td>NaN</td>\n",
       "      <td>NaN</td>\n",
       "    </tr>\n",
       "    <tr>\n",
       "      <th>1655</th>\n",
       "      <td>Q99747</td>\n",
       "      <td>Gamma-soluble NSF attachment protein OS=Homo s...</td>\n",
       "      <td>NAPG</td>\n",
       "      <td>NaN</td>\n",
       "      <td>NaN</td>\n",
       "      <td>NaN</td>\n",
       "      <td>NaN</td>\n",
       "      <td>NaN</td>\n",
       "      <td>NaN</td>\n",
       "    </tr>\n",
       "    <tr>\n",
       "      <th>1658</th>\n",
       "      <td>Q14232</td>\n",
       "      <td>Translation initiation factor eIF-2B subunit a...</td>\n",
       "      <td>EIF2B1</td>\n",
       "      <td>NaN</td>\n",
       "      <td>NaN</td>\n",
       "      <td>NaN</td>\n",
       "      <td>NaN</td>\n",
       "      <td>NaN</td>\n",
       "      <td>NaN</td>\n",
       "    </tr>\n",
       "  </tbody>\n",
       "</table>\n",
       "<p>1659 rows × 9 columns</p>\n",
       "</div>"
      ],
      "text/plain": [
       "     Accession                                        Description Gene Symbol  \\\n",
       "1585    Q5SYB0  FERM and PDZ domain-containing protein 1 OS=Ho...      FRMPD1   \n",
       "357     P22352  Glutathione peroxidase 3 OS=Homo sapiens OX=96...        GPX3   \n",
       "50      P01031  Complement C5 OS=Homo sapiens OX=9606 GN=C5 PE...          C5   \n",
       "336     Q9BXR6  Complement factor H-related protein 5 OS=Homo ...       CFHR5   \n",
       "1614    Q9NVG8  TBC1 domain family member 13 OS=Homo sapiens O...     TBC1D13   \n",
       "...        ...                                                ...         ...   \n",
       "1635    Q9BXS5  AP-1 complex subunit mu-1 OS=Homo sapiens OX=9...       AP1M1   \n",
       "1638    Q8N9N7  Leucine-rich repeat-containing protein 57 OS=H...      LRRC57   \n",
       "1644    O75792  Ribonuclease H2 subunit A OS=Homo sapiens OX=9...    RNASEH2A   \n",
       "1655    Q99747  Gamma-soluble NSF attachment protein OS=Homo s...        NAPG   \n",
       "1658    Q14232  Translation initiation factor eIF-2B subunit a...      EIF2B1   \n",
       "\n",
       "      Abundance Ratio (log2): (T48h) / (T0)  \\\n",
       "1585                                  -2.17   \n",
       "357                                   -1.93   \n",
       "50                                    -1.64   \n",
       "336                                   -1.64   \n",
       "1614                                  -1.63   \n",
       "...                                     ...   \n",
       "1635                                    NaN   \n",
       "1638                                    NaN   \n",
       "1644                                    NaN   \n",
       "1655                                    NaN   \n",
       "1658                                    NaN   \n",
       "\n",
       "      Abundance Ratio (log2): (T96h) / (T0)  \\\n",
       "1585                                  -2.46   \n",
       "357                                   -2.31   \n",
       "50                                    -1.45   \n",
       "336                                   -1.64   \n",
       "1614                                  -1.02   \n",
       "...                                     ...   \n",
       "1635                                    NaN   \n",
       "1638                                    NaN   \n",
       "1644                                    NaN   \n",
       "1655                                    NaN   \n",
       "1658                                    NaN   \n",
       "\n",
       "      Abundance Ratio (log2): (T96h) / (T48h)  \\\n",
       "1585                                    -0.32   \n",
       "357                                     -0.41   \n",
       "50                                       0.17   \n",
       "336                                     -0.04   \n",
       "1614                                     0.54   \n",
       "...                                       ...   \n",
       "1635                                      NaN   \n",
       "1638                                      NaN   \n",
       "1644                                      NaN   \n",
       "1655                                      NaN   \n",
       "1658                                      NaN   \n",
       "\n",
       "      Abundance Ratio Adj. P-Value: (T48h) / (T0)  \\\n",
       "1585                                 1.410630e-15   \n",
       "357                                  1.410630e-15   \n",
       "50                                   5.607040e-11   \n",
       "336                                  5.637270e-11   \n",
       "1614                                 1.233610e-12   \n",
       "...                                           ...   \n",
       "1635                                          NaN   \n",
       "1638                                          NaN   \n",
       "1644                                          NaN   \n",
       "1655                                          NaN   \n",
       "1658                                          NaN   \n",
       "\n",
       "      Abundance Ratio Adj. P-Value: (T96h) / (T0)  \\\n",
       "1585                                     0.000342   \n",
       "357                                      0.000958   \n",
       "50                                       0.100866   \n",
       "336                                      0.046413   \n",
       "1614                                     0.396246   \n",
       "...                                           ...   \n",
       "1635                                          NaN   \n",
       "1638                                          NaN   \n",
       "1644                                          NaN   \n",
       "1655                                          NaN   \n",
       "1658                                          NaN   \n",
       "\n",
       "      Abundance Ratio Adj. P-Value: (T96h) / (T48h)  \n",
       "1585                                       0.991557  \n",
       "357                                        0.964612  \n",
       "50                                         0.948476  \n",
       "336                                        0.991557  \n",
       "1614                                       0.482357  \n",
       "...                                             ...  \n",
       "1635                                            NaN  \n",
       "1638                                            NaN  \n",
       "1644                                            NaN  \n",
       "1655                                            NaN  \n",
       "1658                                            NaN  \n",
       "\n",
       "[1659 rows x 9 columns]"
      ]
     },
     "execution_count": 23,
     "metadata": {},
     "output_type": "execute_result"
    }
   ],
   "source": [
    "prot_data = pd.read_csv(path+\"Proteomique/Experience1.txt\", sep='\\t', skiprows=1)\n",
    "prot_data.iloc[:,[2,3,21,30,31,32,36,37,38]].sort_values(by=['Abundance Ratio (log2): (T48h) / (T0)'])"
   ]
  },
  {
   "cell_type": "code",
   "execution_count": 24,
   "id": "hydraulic-handy",
   "metadata": {
    "executionInfo": {
     "elapsed": 230,
     "status": "ok",
     "timestamp": 1669891332773,
     "user": {
      "displayName": "victor deg",
      "userId": "06669311549579221635"
     },
     "user_tz": -60
    },
    "id": "hydraulic-handy"
   },
   "outputs": [],
   "source": [
    "data = prot_data"
   ]
  },
  {
   "cell_type": "code",
   "execution_count": 25,
   "id": "effective-collapse",
   "metadata": {
    "colab": {
     "base_uri": "https://localhost:8080/",
     "height": 616
    },
    "executionInfo": {
     "elapsed": 1166,
     "status": "ok",
     "timestamp": 1669891334862,
     "user": {
      "displayName": "victor deg",
      "userId": "06669311549579221635"
     },
     "user_tz": -60
    },
    "id": "effective-collapse",
    "outputId": "790b90c3-cc13-4616-828a-7593651e1a7d"
   },
   "outputs": [
    {
     "data": {
      "image/png": "[encoded data removed]",
      "text/plain": [
       "<Figure size 1500x1000 with 1 Axes>"
      ]
     },
     "metadata": {},
     "output_type": "display_data"
    }
   ],
   "source": [
    "data[\"-log10\"] = -(np.log10(data[\"Abundance Ratio Adj. P-Value: (T48h) / (T0)\"]))\n",
    "#data = pd.DataFrame.dropna(data)\n",
    "data[\"diffexpressed\"] = \"NO\"\n",
    "# if log2Foldchange > 2 and pvalue < 0.05, set as \"UP\" \n",
    "data[\"diffexpressed\"][(data[\"Abundance Ratio (log2): (T48h) / (T0)\"] > 1) & (data[\"Abundance Ratio Adj. P-Value: (T48h) / (T0)\"] < 0.05)] = \"UP\"\n",
    "# if log2Foldchange < -0.6 and pvalue < 0.05, set as \"DOWN\"\n",
    "data[\"diffexpressed\"][(data[\"Abundance Ratio (log2): (T48h) / (T0)\"] < -1) & (data[\"Abundance Ratio Adj. P-Value: (T48h) / (T0)\"] < 0.05)] = \"DOWN\"\n",
    "data[\"diffexpressed\"][(data[\"Abundance Ratio (log2): (T48h) / (T0)\"] > -1) & (data[\"Abundance Ratio (log2): (T48h) / (T0)\"] < 1)] = \"NONE\"\n",
    "data[\"label\"] = np.nan\n",
    "data[\"label\"][data[\"diffexpressed\"] != \"NO\"] = data[\"Gene Symbol\"][data[\"diffexpressed\"] != \"NO\"]\n",
    "mycolors = []\n",
    "\n",
    "for i in data['diffexpressed']:\n",
    "    if i == 'NONE':\n",
    "        mycolors.append('grey')\n",
    "    elif i == 'UP':\n",
    "        mycolors.append('red')\n",
    "    elif i == 'DOWN':\n",
    "        mycolors.append('blue')\n",
    "    elif i == \"NO\":\n",
    "        mycolors.append('grey')\n",
    "\n",
    "fig, ax = plt.subplots(figsize=(15,10))\n",
    "\n",
    "x = data['Abundance Ratio (log2): (T48h) / (T0)']\n",
    "y = data['-log10']\n",
    "n = data[\"Gene Symbol\"]\n",
    "texte = []\n",
    "\n",
    "ax.scatter(x, y, c=mycolors)\n",
    "\n",
    "for i, txt in enumerate(n):\n",
    "    if (x.iloc[i] > 2 and y.iloc[i] > 2) or (x.iloc[i] < -2 and y.iloc[i] > 2):\n",
    "        texte += [ax.text(x.iloc[i], y.iloc[i],txt)]\n",
    "\n",
    "ax.set_xlabel(\"log2FoldChange\",fontsize=22)\n",
    "ax.set_ylabel(\"-log10\",fontsize=22)\n",
    "legend_elements = [Line2D([0], [0], marker='o',color='w', label='UP',markerfacecolor='red', markersize=15),\n",
    "               Line2D([0], [0], marker='o', color='w', label='Down',markerfacecolor='blue', markersize=15),\n",
    "               Line2D([0], [0], marker='o', color='w', label='NO',markerfacecolor='grey', markersize=15)]\n",
    "ax.legend(handles=legend_elements, title=\"Expression\", loc=\"upper left\")\n",
    "#adjust_text(texte)\n",
    "plt.show()"
   ]
  },
  {
   "cell_type": "code",
   "execution_count": 26,
   "id": "JkDn0M6bpzr8",
   "metadata": {
    "executionInfo": {
     "elapsed": 249,
     "status": "ok",
     "timestamp": 1669891338157,
     "user": {
      "displayName": "victor deg",
      "userId": "06669311549579221635"
     },
     "user_tz": -60
    },
    "id": "JkDn0M6bpzr8"
   },
   "outputs": [],
   "source": [
    "#pour ne choisir que les up ou down\n",
    "prot_data = prot_data[(prot_data[\"Abundance Ratio (log2): (T96h) / (T48h)\"] > 0)]"
   ]
  },
  {
   "cell_type": "code",
   "execution_count": 27,
   "id": "btHnFhmzbKQ0",
   "metadata": {
    "executionInfo": {
     "elapsed": 5,
     "status": "ok",
     "timestamp": 1669891339170,
     "user": {
      "displayName": "victor deg",
      "userId": "06669311549579221635"
     },
     "user_tz": -60
    },
    "id": "btHnFhmzbKQ0"
   },
   "outputs": [],
   "source": [
    "de_1_0 = set(prot_data[prot_data[\"Abundance Ratio Adj. P-Value: (T48h) / (T0)\"] < 0.05][\"Gene Symbol\"].dropna())\n",
    "de_2_1 = set(prot_data[prot_data[\"Abundance Ratio Adj. P-Value: (T96h) / (T48h)\"] < 0.05][\"Gene Symbol\"].dropna())\n",
    "de_2_0 = set(prot_data[prot_data[\"Abundance Ratio Adj. P-Value: (T96h) / (T0)\"] < 0.05][\"Gene Symbol\"].dropna())"
   ]
  },
  {
   "cell_type": "code",
   "execution_count": 28,
   "id": "7DBDvdiegPXe",
   "metadata": {
    "colab": {
     "base_uri": "https://localhost:8080/"
    },
    "executionInfo": {
     "elapsed": 282,
     "status": "ok",
     "timestamp": 1669818951604,
     "user": {
      "displayName": "victor deg",
      "userId": "06669311549579221635"
     },
     "user_tz": -60
    },
    "id": "7DBDvdiegPXe",
    "outputId": "57c1a474-d7fc-4559-e228-ec20173b0a9e"
   },
   "outputs": [
    {
     "data": {
      "text/plain": [
       "{'A2M',\n",
       " 'ANXA1',\n",
       " 'APP',\n",
       " 'AVEN',\n",
       " 'C19orf10; MYDGF',\n",
       " 'C1QB',\n",
       " 'C1R',\n",
       " 'C1S',\n",
       " 'C4BPA',\n",
       " 'C5',\n",
       " 'CD109',\n",
       " 'CD9',\n",
       " 'CFH',\n",
       " 'COL12A1',\n",
       " 'COL4A2',\n",
       " 'COL6A3',\n",
       " 'COL7A1',\n",
       " 'CST3',\n",
       " 'DNAJB11',\n",
       " 'EFEMP1',\n",
       " 'F13A1',\n",
       " 'F2',\n",
       " 'FBN2',\n",
       " 'HIST1H1B',\n",
       " 'HIST1H1C',\n",
       " 'HMGCS1',\n",
       " 'HNRNPL',\n",
       " 'HRG',\n",
       " 'HSPG2',\n",
       " 'HTRA1',\n",
       " 'IFNE',\n",
       " 'IGHG1',\n",
       " 'IGHV1OR15-1',\n",
       " 'IGHV3-7',\n",
       " 'IGJ; JCHAIN',\n",
       " 'IGKC',\n",
       " 'IGLL5',\n",
       " 'LGALS3BP',\n",
       " 'MYH11',\n",
       " 'NLN',\n",
       " 'PCOLCE',\n",
       " 'PLOD1',\n",
       " 'PMPCB',\n",
       " 'PRSS1',\n",
       " 'PTX3',\n",
       " 'QDPR',\n",
       " 'RANGAP1',\n",
       " 'SERPINA3',\n",
       " 'SERPINF1',\n",
       " 'SF1',\n",
       " 'SLC34A3',\n",
       " 'TBC1D13',\n",
       " 'TGFBI',\n",
       " 'TIMP2',\n",
       " 'TNC',\n",
       " 'TTLL12',\n",
       " 'VWF'}"
      ]
     },
     "execution_count": 28,
     "metadata": {},
     "output_type": "execute_result"
    }
   ],
   "source": [
    "de_1_0"
   ]
  },
  {
   "cell_type": "code",
   "execution_count": 33,
   "id": "2t6AovW9gZRM",
   "metadata": {
    "executionInfo": {
     "elapsed": 238,
     "status": "ok",
     "timestamp": 1669891342855,
     "user": {
      "displayName": "victor deg",
      "userId": "06669311549579221635"
     },
     "user_tz": -60
    },
    "id": "2t6AovW9gZRM"
   },
   "outputs": [],
   "source": [
    "import matplotlib.pyplot as plt\n",
    "from matplotlib_venn import venn3"
   ]
  },
  {
   "cell_type": "code",
   "execution_count": 34,
   "id": "rHuUn7xChjZs",
   "metadata": {
    "executionInfo": {
     "elapsed": 3,
     "status": "ok",
     "timestamp": 1669891343955,
     "user": {
      "displayName": "victor deg",
      "userId": "06669311549579221635"
     },
     "user_tz": -60
    },
    "id": "rHuUn7xChjZs"
   },
   "outputs": [],
   "source": [
    "inter4 = de_1_0.intersection(de_2_1.intersection(de_2_0))\n",
    "\n",
    "diff1 = de_1_0 - de_2_1 - de_2_0\n",
    "diff2 = de_2_1 - de_1_0 - de_2_0\n",
    "diff3 = de_2_0 - de_2_1 - de_1_0\n",
    "\n",
    "inter1 = de_1_0.intersection(de_2_1)\n",
    "inter2 = de_2_1.intersection(de_2_0)\n",
    "inter3 = de_2_0.intersection(de_1_0)\n"
   ]
  },
  {
   "cell_type": "code",
   "execution_count": 35,
   "id": "sKNZUShaip3h",
   "metadata": {
    "colab": {
     "base_uri": "https://localhost:8080/",
     "height": 284
    },
    "executionInfo": {
     "elapsed": 252,
     "status": "ok",
     "timestamp": 1669891346477,
     "user": {
      "displayName": "victor deg",
      "userId": "06669311549579221635"
     },
     "user_tz": -60
    },
    "id": "sKNZUShaip3h",
    "outputId": "f6370feb-34f4-437f-c7ff-be327d31b23f"
   },
   "outputs": [
    {
     "name": "stderr",
     "output_type": "stream",
     "text": [
      "/home/zaki4/.local/lib/python3.8/site-packages/matplotlib_venn/_venn3.py:117: UserWarning: Bad circle positioning\n",
      "  warnings.warn(\"Bad circle positioning\")\n"
     ]
    },
    {
     "data": {
      "image/png": "[encoded data removed]",
      "text/plain": [
       "<Figure size 640x480 with 1 Axes>"
      ]
     },
     "metadata": {},
     "output_type": "display_data"
    }
   ],
   "source": [
    "venn3(subsets = (len(diff1), len(diff2), len(inter1), len(diff3), len(inter3), len(inter2), len(inter4)))\n",
    "plt.show()"
   ]
  },
  {
   "cell_type": "code",
   "execution_count": 36,
   "id": "Hm7dyQnijm1K",
   "metadata": {
    "colab": {
     "base_uri": "https://localhost:8080/",
     "height": 282
    },
    "executionInfo": {
     "elapsed": 310,
     "status": "ok",
     "timestamp": 1669891348375,
     "user": {
      "displayName": "victor deg",
      "userId": "06669311549579221635"
     },
     "user_tz": -60
    },
    "id": "Hm7dyQnijm1K",
    "outputId": "b71bed27-0454-442b-e192-5d35e0c56db9"
   },
   "outputs": [
    {
     "data": {
      "text/plain": [
       "Text(0.5, 1.0, 'Venn Diagram')"
      ]
     },
     "execution_count": 36,
     "metadata": {},
     "output_type": "execute_result"
    },
    {
     "data": {
      "image/png": "[encoded data removed]",
      "text/plain": [
       "<Figure size 640x480 with 1 Axes>"
      ]
     },
     "metadata": {},
     "output_type": "display_data"
    }
   ],
   "source": [
    "vd = venn3([de_1_0, de_2_1 , de_2_0],set_labels=(\"D2 vs D0\",\"D4 vs D2\",\"D4 vs D0\"))\n",
    "vd.get_patch_by_id(\"100\").set_alpha(0.5)\n",
    "vd.get_patch_by_id(\"001\").set_alpha(0.5)\n",
    "vd.get_patch_by_id(\"011\").set_alpha(0.5)\n",
    "\n",
    "plt.title(\"Venn Diagram\",fontsize=14)"
   ]
  },
  {
   "cell_type": "code",
   "execution_count": 37,
   "id": "qA8FrwEClBY4",
   "metadata": {
    "colab": {
     "base_uri": "https://localhost:8080/",
     "height": 282
    },
    "executionInfo": {
     "elapsed": 521,
     "status": "ok",
     "timestamp": 1669891350469,
     "user": {
      "displayName": "victor deg",
      "userId": "06669311549579221635"
     },
     "user_tz": -60
    },
    "id": "qA8FrwEClBY4",
    "outputId": "4337bc6e-71bf-4bf0-ad2d-4ed91cc5f75a"
   },
   "outputs": [
    {
     "data": {
      "text/plain": [
       "Text(0.5, 1.0, 'Venn Diagram')"
      ]
     },
     "execution_count": 37,
     "metadata": {},
     "output_type": "execute_result"
    },
    {
     "data": {
      "image/png": "[encoded data removed]",
      "text/plain": [
       "<Figure size 640x480 with 1 Axes>"
      ]
     },
     "metadata": {},
     "output_type": "display_data"
    }
   ],
   "source": [
    "vd = venn3([de_1_0, de_2_1 , de_2_0],set_labels=(\"D2 vs D0\",\"D4 vs D2\",\"D4 vs D0\"))\n",
    "vd.get_patch_by_id(\"100\").set_alpha(0.5)\n",
    "vd.get_patch_by_id(\"001\").set_alpha(0.5)\n",
    "vd.get_patch_by_id(\"011\").set_alpha(0.5)\n",
    "\n",
    "plt.title(\"Venn Diagram\",fontsize=14)"
   ]
  },
  {
   "cell_type": "code",
   "execution_count": 38,
   "id": "IyNI6izzlT9j",
   "metadata": {
    "colab": {
     "base_uri": "https://localhost:8080/",
     "height": 282
    },
    "executionInfo": {
     "elapsed": 289,
     "status": "ok",
     "timestamp": 1669891352164,
     "user": {
      "displayName": "victor deg",
      "userId": "06669311549579221635"
     },
     "user_tz": -60
    },
    "id": "IyNI6izzlT9j",
    "outputId": "1db1eb7d-1696-4e5e-df14-3b2bef2e67e7"
   },
   "outputs": [
    {
     "data": {
      "text/plain": [
       "Text(0.5, 1.0, 'Venn Diagram')"
      ]
     },
     "execution_count": 38,
     "metadata": {},
     "output_type": "execute_result"
    },
    {
     "data": {
      "image/png": "[encoded data removed]",
      "text/plain": [
       "<Figure size 640x480 with 1 Axes>"
      ]
     },
     "metadata": {},
     "output_type": "display_data"
    }
   ],
   "source": [
    "vd = venn3([de_1_0, de_2_1 , de_2_0],set_labels=(\"D2 vs D0\",\"D4 vs D2\",\"D4 vs D0\"))\n",
    "vd.get_patch_by_id(\"100\").set_alpha(0.5)\n",
    "vd.get_patch_by_id(\"001\").set_alpha(0.5)\n",
    "vd.get_patch_by_id(\"011\").set_alpha(0.5)\n",
    "\n",
    "plt.title(\"Venn Diagram\",fontsize=14)"
   ]
  }
 ],
 "metadata": {
  "colab": {
   "provenance": []
  },
  "kernelspec": {
   "display_name": "Python 3 (ipykernel)",
   "language": "python",
   "name": "python3"
  },
  "language_info": {
   "codemirror_mode": {
    "name": "ipython",
    "version": 3
   },
   "file_extension": ".py",
   "mimetype": "text/x-python",
   "name": "python",
   "nbconvert_exporter": "python",
   "pygments_lexer": "ipython3",
   "version": "3.8.10"
  },
  "widgets": {
   "application/vnd.jupyter.widget-state+json": {
    "023a8153d9d84420846b64af7e52aeeb": {
     "model_module": "@jupyter-widgets/controls",
     "model_module_version": "1.5.0",
     "model_name": "FloatSliderModel",
     "state": {
      "_dom_classes": [],
      "_model_module": "@jupyter-widgets/controls",
      "_model_module_version": "1.5.0",
      "_model_name": "FloatSliderModel",
      "_view_count": null,
      "_view_module": "@jupyter-widgets/controls",
      "_view_module_version": "1.5.0",
      "_view_name": "FloatSliderView",
      "continuous_update": true,
      "description": "l2FC_down",
      "description_tooltip": null,
      "disabled": false,
      "layout": "IPY_MODEL_f0c3737321584dcca111767454c3bede",
      "max": -1,
      "min": -10,
      "orientation": "horizontal",
      "readout": true,
      "readout_format": ".2f",
      "step": 0.5,
      "style": "IPY_MODEL_2f737ce1c1694d28ac6e0d8c89073e87",
      "value": -6
     }
    },
    "0dd6e713c1af4bafa776cf48c4fa754c": {
     "model_module": "@jupyter-widgets/controls",
     "model_module_version": "1.5.0",
     "model_name": "IntSliderModel",
     "state": {
      "_dom_classes": [],
      "_model_module": "@jupyter-widgets/controls",
      "_model_module_version": "1.5.0",
      "_model_name": "IntSliderModel",
      "_view_count": null,
      "_view_module": "@jupyter-widgets/controls",
      "_view_module_version": "1.5.0",
      "_view_name": "IntSliderView",
      "continuous_update": true,
      "description": "label_down",
      "description_tooltip": null,
      "disabled": false,
      "layout": "IPY_MODEL_ca54b297e6ec41c8889793e1de5464d3",
      "max": -1,
      "min": -10,
      "orientation": "horizontal",
      "readout": true,
      "readout_format": "d",
      "step": 1,
      "style": "IPY_MODEL_8488c7bb7434498187e522785620213b",
      "value": -6
     }
    },
    "2f737ce1c1694d28ac6e0d8c89073e87": {
     "model_module": "@jupyter-widgets/controls",
     "model_module_version": "1.5.0",
     "model_name": "SliderStyleModel",
     "state": {
      "_model_module": "@jupyter-widgets/controls",
      "_model_module_version": "1.5.0",
      "_model_name": "SliderStyleModel",
      "_view_count": null,
      "_view_module": "@jupyter-widgets/base",
      "_view_module_version": "1.2.0",
      "_view_name": "StyleView",
      "description_width": "",
      "handle_color": null
     }
    },
    "3250b6c9252046dfb1e04d04d3a1e583": {
     "model_module": "@jupyter-widgets/base",
     "model_module_version": "1.2.0",
     "model_name": "LayoutModel",
     "state": {
      "_model_module": "@jupyter-widgets/base",
      "_model_module_version": "1.2.0",
      "_model_name": "LayoutModel",
      "_view_count": null,
      "_view_module": "@jupyter-widgets/base",
      "_view_module_version": "1.2.0",
      "_view_name": "LayoutView",
      "align_content": null,
      "align_items": null,
      "align_self": null,
      "border": null,
      "bottom": null,
      "display": null,
      "flex": null,
      "flex_flow": null,
      "grid_area": null,
      "grid_auto_columns": null,
      "grid_auto_flow": null,
      "grid_auto_rows": null,
      "grid_column": null,
      "grid_gap": null,
      "grid_row": null,
      "grid_template_areas": null,
      "grid_template_columns": null,
      "grid_template_rows": null,
      "height": null,
      "justify_content": null,
      "justify_items": null,
      "left": null,
      "margin": null,
      "max_height": null,
      "max_width": null,
      "min_height": null,
      "min_width": null,
      "object_fit": null,
      "object_position": null,
      "order": null,
      "overflow": null,
      "overflow_x": null,
      "overflow_y": null,
      "padding": null,
      "right": null,
      "top": null,
      "visibility": null,
      "width": null
     }
    },
    "33a50f2df17d4be8bc577882b52933c7": {
     "model_module": "@jupyter-widgets/base",
     "model_module_version": "1.2.0",
     "model_name": "LayoutModel",
     "state": {
      "_model_module": "@jupyter-widgets/base",
      "_model_module_version": "1.2.0",
      "_model_name": "LayoutModel",
      "_view_count": null,
      "_view_module": "@jupyter-widgets/base",
      "_view_module_version": "1.2.0",
      "_view_name": "LayoutView",
      "align_content": null,
      "align_items": null,
      "align_self": null,
      "border": null,
      "bottom": null,
      "display": null,
      "flex": null,
      "flex_flow": null,
      "grid_area": null,
      "grid_auto_columns": null,
      "grid_auto_flow": null,
      "grid_auto_rows": null,
      "grid_column": null,
      "grid_gap": null,
      "grid_row": null,
      "grid_template_areas": null,
      "grid_template_columns": null,
      "grid_template_rows": null,
      "height": null,
      "justify_content": null,
      "justify_items": null,
      "left": null,
      "margin": null,
      "max_height": null,
      "max_width": null,
      "min_height": null,
      "min_width": null,
      "object_fit": null,
      "object_position": null,
      "order": null,
      "overflow": null,
      "overflow_x": null,
      "overflow_y": null,
      "padding": null,
      "right": null,
      "top": null,
      "visibility": null,
      "width": null
     }
    },
    "36a2b9a3147c487b819cf60428f91e51": {
     "model_module": "@jupyter-widgets/base",
     "model_module_version": "1.2.0",
     "model_name": "LayoutModel",
     "state": {
      "_model_module": "@jupyter-widgets/base",
      "_model_module_version": "1.2.0",
      "_model_name": "LayoutModel",
      "_view_count": null,
      "_view_module": "@jupyter-widgets/base",
      "_view_module_version": "1.2.0",
      "_view_name": "LayoutView",
      "align_content": null,
      "align_items": null,
      "align_self": null,
      "border": null,
      "bottom": null,
      "display": null,
      "flex": null,
      "flex_flow": null,
      "grid_area": null,
      "grid_auto_columns": null,
      "grid_auto_flow": null,
      "grid_auto_rows": null,
      "grid_column": null,
      "grid_gap": null,
      "grid_row": null,
      "grid_template_areas": null,
      "grid_template_columns": null,
      "grid_template_rows": null,
      "height": null,
      "justify_content": null,
      "justify_items": null,
      "left": null,
      "margin": null,
      "max_height": null,
      "max_width": null,
      "min_height": null,
      "min_width": null,
      "object_fit": null,
      "object_position": null,
      "order": null,
      "overflow": null,
      "overflow_x": null,
      "overflow_y": null,
      "padding": null,
      "right": null,
      "top": null,
      "visibility": null,
      "width": null
     }
    },
    "3b3ee7e3755143fc98aaed6da969b114": {
     "model_module": "@jupyter-widgets/controls",
     "model_module_version": "1.5.0",
     "model_name": "DescriptionStyleModel",
     "state": {
      "_model_module": "@jupyter-widgets/controls",
      "_model_module_version": "1.5.0",
      "_model_name": "DescriptionStyleModel",
      "_view_count": null,
      "_view_module": "@jupyter-widgets/base",
      "_view_module_version": "1.2.0",
      "_view_name": "StyleView",
      "description_width": ""
     }
    },
    "3cde30f597b640d29e5cecf39733f65d": {
     "model_module": "@jupyter-widgets/controls",
     "model_module_version": "1.5.0",
     "model_name": "SliderStyleModel",
     "state": {
      "_model_module": "@jupyter-widgets/controls",
      "_model_module_version": "1.5.0",
      "_model_name": "SliderStyleModel",
      "_view_count": null,
      "_view_module": "@jupyter-widgets/base",
      "_view_module_version": "1.2.0",
      "_view_name": "StyleView",
      "description_width": "",
      "handle_color": null
     }
    },
    "47df73707a49459b8017953f05f91715": {
     "model_module": "@jupyter-widgets/controls",
     "model_module_version": "1.5.0",
     "model_name": "SliderStyleModel",
     "state": {
      "_model_module": "@jupyter-widgets/controls",
      "_model_module_version": "1.5.0",
      "_model_name": "SliderStyleModel",
      "_view_count": null,
      "_view_module": "@jupyter-widgets/base",
      "_view_module_version": "1.2.0",
      "_view_name": "StyleView",
      "description_width": "",
      "handle_color": null
     }
    },
    "4f44b73b68aa402cac04e8cd98fb670d": {
     "model_module": "@jupyter-widgets/output",
     "model_module_version": "1.0.0",
     "model_name": "OutputModel",
     "state": {
      "_dom_classes": [],
      "_model_module": "@jupyter-widgets/output",
      "_model_module_version": "1.0.0",
      "_model_name": "OutputModel",
      "_view_count": null,
      "_view_module": "@jupyter-widgets/output",
      "_view_module_version": "1.0.0",
      "_view_name": "OutputView",
      "layout": "IPY_MODEL_33a50f2df17d4be8bc577882b52933c7",
      "msg_id": "",
      "outputs": [
       {
        "data": {
         "image/png": "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\n",
         "text/plain": "<Figure size 1080x720 with 1 Axes>"
        },
        "metadata": {
         "needs_background": "light"
        },
        "output_type": "display_data"
       }
      ]
     }
    },
    "50ff9da9503f4e929ef9c052efef2213": {
     "model_module": "@jupyter-widgets/base",
     "model_module_version": "1.2.0",
     "model_name": "LayoutModel",
     "state": {
      "_model_module": "@jupyter-widgets/base",
      "_model_module_version": "1.2.0",
      "_model_name": "LayoutModel",
      "_view_count": null,
      "_view_module": "@jupyter-widgets/base",
      "_view_module_version": "1.2.0",
      "_view_name": "LayoutView",
      "align_content": null,
      "align_items": null,
      "align_self": null,
      "border": null,
      "bottom": null,
      "display": null,
      "flex": null,
      "flex_flow": null,
      "grid_area": null,
      "grid_auto_columns": null,
      "grid_auto_flow": null,
      "grid_auto_rows": null,
      "grid_column": null,
      "grid_gap": null,
      "grid_row": null,
      "grid_template_areas": null,
      "grid_template_columns": null,
      "grid_template_rows": null,
      "height": null,
      "justify_content": null,
      "justify_items": null,
      "left": null,
      "margin": null,
      "max_height": null,
      "max_width": null,
      "min_height": null,
      "min_width": null,
      "object_fit": null,
      "object_position": null,
      "order": null,
      "overflow": null,
      "overflow_x": null,
      "overflow_y": null,
      "padding": null,
      "right": null,
      "top": null,
      "visibility": null,
      "width": null
     }
    },
    "5cf4edfaa8484bea8e32ab508121e012": {
     "model_module": "@jupyter-widgets/base",
     "model_module_version": "1.2.0",
     "model_name": "LayoutModel",
     "state": {
      "_model_module": "@jupyter-widgets/base",
      "_model_module_version": "1.2.0",
      "_model_name": "LayoutModel",
      "_view_count": null,
      "_view_module": "@jupyter-widgets/base",
      "_view_module_version": "1.2.0",
      "_view_name": "LayoutView",
      "align_content": null,
      "align_items": null,
      "align_self": null,
      "border": null,
      "bottom": null,
      "display": null,
      "flex": null,
      "flex_flow": null,
      "grid_area": null,
      "grid_auto_columns": null,
      "grid_auto_flow": null,
      "grid_auto_rows": null,
      "grid_column": null,
      "grid_gap": null,
      "grid_row": null,
      "grid_template_areas": null,
      "grid_template_columns": null,
      "grid_template_rows": null,
      "height": null,
      "justify_content": null,
      "justify_items": null,
      "left": null,
      "margin": null,
      "max_height": null,
      "max_width": null,
      "min_height": null,
      "min_width": null,
      "object_fit": null,
      "object_position": null,
      "order": null,
      "overflow": null,
      "overflow_x": null,
      "overflow_y": null,
      "padding": null,
      "right": null,
      "top": null,
      "visibility": null,
      "width": null
     }
    },
    "61b629262e034631bb540f5c3550877e": {
     "model_module": "@jupyter-widgets/controls",
     "model_module_version": "1.5.0",
     "model_name": "DropdownModel",
     "state": {
      "_dom_classes": [],
      "_model_module": "@jupyter-widgets/controls",
      "_model_module_version": "1.5.0",
      "_model_name": "DropdownModel",
      "_options_labels": [
       "Experience1.txt",
       "Experience2.txt"
      ],
      "_view_count": null,
      "_view_module": "@jupyter-widgets/controls",
      "_view_module_version": "1.5.0",
      "_view_name": "DropdownView",
      "description": "file",
      "description_tooltip": null,
      "disabled": false,
      "index": 0,
      "layout": "IPY_MODEL_3250b6c9252046dfb1e04d04d3a1e583",
      "style": "IPY_MODEL_944ba176e180490d9ccf2481c46960c5"
     }
    },
    "65134eff8f44456293608e43c2ed4b6d": {
     "model_module": "@jupyter-widgets/base",
     "model_module_version": "1.2.0",
     "model_name": "LayoutModel",
     "state": {
      "_model_module": "@jupyter-widgets/base",
      "_model_module_version": "1.2.0",
      "_model_name": "LayoutModel",
      "_view_count": null,
      "_view_module": "@jupyter-widgets/base",
      "_view_module_version": "1.2.0",
      "_view_name": "LayoutView",
      "align_content": null,
      "align_items": null,
      "align_self": null,
      "border": null,
      "bottom": null,
      "display": null,
      "flex": null,
      "flex_flow": null,
      "grid_area": null,
      "grid_auto_columns": null,
      "grid_auto_flow": null,
      "grid_auto_rows": null,
      "grid_column": null,
      "grid_gap": null,
      "grid_row": null,
      "grid_template_areas": null,
      "grid_template_columns": null,
      "grid_template_rows": null,
      "height": null,
      "justify_content": null,
      "justify_items": null,
      "left": null,
      "margin": null,
      "max_height": null,
      "max_width": null,
      "min_height": null,
      "min_width": null,
      "object_fit": null,
      "object_position": null,
      "order": null,
      "overflow": null,
      "overflow_x": null,
      "overflow_y": null,
      "padding": null,
      "right": null,
      "top": null,
      "visibility": null,
      "width": null
     }
    },
    "67daf8b547964e1bb12e44a1638125aa": {
     "model_module": "@jupyter-widgets/controls",
     "model_module_version": "1.5.0",
     "model_name": "DropdownModel",
     "state": {
      "_dom_classes": [],
      "_model_module": "@jupyter-widgets/controls",
      "_model_module_version": "1.5.0",
      "_model_name": "DropdownModel",
      "_options_labels": [
       "all_de_j4_vs_j0_allgenes.txt",
       "all_de_j4_vs_j2_allgenes.txt",
       "all_de_j2_vs_j0_allgenes.txt"
      ],
      "_view_count": null,
      "_view_module": "@jupyter-widgets/controls",
      "_view_module_version": "1.5.0",
      "_view_name": "DropdownView",
      "description": "file",
      "description_tooltip": null,
      "disabled": false,
      "index": 0,
      "layout": "IPY_MODEL_6b50c3046ad541dfa0717ce7d860e629",
      "style": "IPY_MODEL_3b3ee7e3755143fc98aaed6da969b114"
     }
    },
    "6b50c3046ad541dfa0717ce7d860e629": {
     "model_module": "@jupyter-widgets/base",
     "model_module_version": "1.2.0",
     "model_name": "LayoutModel",
     "state": {
      "_model_module": "@jupyter-widgets/base",
      "_model_module_version": "1.2.0",
      "_model_name": "LayoutModel",
      "_view_count": null,
      "_view_module": "@jupyter-widgets/base",
      "_view_module_version": "1.2.0",
      "_view_name": "LayoutView",
      "align_content": null,
      "align_items": null,
      "align_self": null,
      "border": null,
      "bottom": null,
      "display": null,
      "flex": null,
      "flex_flow": null,
      "grid_area": null,
      "grid_auto_columns": null,
      "grid_auto_flow": null,
      "grid_auto_rows": null,
      "grid_column": null,
      "grid_gap": null,
      "grid_row": null,
      "grid_template_areas": null,
      "grid_template_columns": null,
      "grid_template_rows": null,
      "height": null,
      "justify_content": null,
      "justify_items": null,
      "left": null,
      "margin": null,
      "max_height": null,
      "max_width": null,
      "min_height": null,
      "min_width": null,
      "object_fit": null,
      "object_position": null,
      "order": null,
      "overflow": null,
      "overflow_x": null,
      "overflow_y": null,
      "padding": null,
      "right": null,
      "top": null,
      "visibility": null,
      "width": null
     }
    },
    "6f630767128b4e7a9b7a0d831e8da1d3": {
     "model_module": "@jupyter-widgets/controls",
     "model_module_version": "1.5.0",
     "model_name": "SliderStyleModel",
     "state": {
      "_model_module": "@jupyter-widgets/controls",
      "_model_module_version": "1.5.0",
      "_model_name": "SliderStyleModel",
      "_view_count": null,
      "_view_module": "@jupyter-widgets/base",
      "_view_module_version": "1.2.0",
      "_view_name": "StyleView",
      "description_width": "",
      "handle_color": null
     }
    },
    "794eca2ed341415dacefb1abff46d059": {
     "model_module": "@jupyter-widgets/base",
     "model_module_version": "1.2.0",
     "model_name": "LayoutModel",
     "state": {
      "_model_module": "@jupyter-widgets/base",
      "_model_module_version": "1.2.0",
      "_model_name": "LayoutModel",
      "_view_count": null,
      "_view_module": "@jupyter-widgets/base",
      "_view_module_version": "1.2.0",
      "_view_name": "LayoutView",
      "align_content": null,
      "align_items": null,
      "align_self": null,
      "border": null,
      "bottom": null,
      "display": null,
      "flex": null,
      "flex_flow": null,
      "grid_area": null,
      "grid_auto_columns": null,
      "grid_auto_flow": null,
      "grid_auto_rows": null,
      "grid_column": null,
      "grid_gap": null,
      "grid_row": null,
      "grid_template_areas": null,
      "grid_template_columns": null,
      "grid_template_rows": null,
      "height": null,
      "justify_content": null,
      "justify_items": null,
      "left": null,
      "margin": null,
      "max_height": null,
      "max_width": null,
      "min_height": null,
      "min_width": null,
      "object_fit": null,
      "object_position": null,
      "order": null,
      "overflow": null,
      "overflow_x": null,
      "overflow_y": null,
      "padding": null,
      "right": null,
      "top": null,
      "visibility": null,
      "width": null
     }
    },
    "824bff82960f461ea7805af8cc23dc06": {
     "model_module": "@jupyter-widgets/controls",
     "model_module_version": "1.5.0",
     "model_name": "VBoxModel",
     "state": {
      "_dom_classes": [
       "widget-interact"
      ],
      "_model_module": "@jupyter-widgets/controls",
      "_model_module_version": "1.5.0",
      "_model_name": "VBoxModel",
      "_view_count": null,
      "_view_module": "@jupyter-widgets/controls",
      "_view_module_version": "1.5.0",
      "_view_name": "VBoxView",
      "box_style": "",
      "children": [
       "IPY_MODEL_67daf8b547964e1bb12e44a1638125aa",
       "IPY_MODEL_f326be6950f44350aa9eb5fc95cc2f1e",
       "IPY_MODEL_937fc1fbe20b4703bf59265c820e8440",
       "IPY_MODEL_fd3bda305b354ba58a295f2abcf235cf",
       "IPY_MODEL_cfd64967c6ed4210ab5cf2edec79953b",
       "IPY_MODEL_0dd6e713c1af4bafa776cf48c4fa754c",
       "IPY_MODEL_4f44b73b68aa402cac04e8cd98fb670d"
      ],
      "layout": "IPY_MODEL_ef8d4622552947549ed5a3d56b328fe5"
     }
    },
    "83adf03277554836bf50a3e36730ac3f": {
     "model_module": "@jupyter-widgets/output",
     "model_module_version": "1.0.0",
     "model_name": "OutputModel",
     "state": {
      "_dom_classes": [],
      "_model_module": "@jupyter-widgets/output",
      "_model_module_version": "1.0.0",
      "_model_name": "OutputModel",
      "_view_count": null,
      "_view_module": "@jupyter-widgets/output",
      "_view_module_version": "1.0.0",
      "_view_name": "OutputView",
      "layout": "IPY_MODEL_36a2b9a3147c487b819cf60428f91e51",
      "msg_id": "",
      "outputs": [
       {
        "data": {
         "image/png": "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\n",
         "text/plain": "<Figure size 1080x720 with 1 Axes>"
        },
        "metadata": {
         "needs_background": "light"
        },
        "output_type": "display_data"
       }
      ]
     }
    },
    "8488c7bb7434498187e522785620213b": {
     "model_module": "@jupyter-widgets/controls",
     "model_module_version": "1.5.0",
     "model_name": "SliderStyleModel",
     "state": {
      "_model_module": "@jupyter-widgets/controls",
      "_model_module_version": "1.5.0",
      "_model_name": "SliderStyleModel",
      "_view_count": null,
      "_view_module": "@jupyter-widgets/base",
      "_view_module_version": "1.2.0",
      "_view_name": "StyleView",
      "description_width": "",
      "handle_color": null
     }
    },
    "937fc1fbe20b4703bf59265c820e8440": {
     "model_module": "@jupyter-widgets/controls",
     "model_module_version": "1.5.0",
     "model_name": "FloatSliderModel",
     "state": {
      "_dom_classes": [],
      "_model_module": "@jupyter-widgets/controls",
      "_model_module_version": "1.5.0",
      "_model_name": "FloatSliderModel",
      "_view_count": null,
      "_view_module": "@jupyter-widgets/controls",
      "_view_module_version": "1.5.0",
      "_view_name": "FloatSliderView",
      "continuous_update": true,
      "description": "l2FC_up",
      "description_tooltip": null,
      "disabled": false,
      "layout": "IPY_MODEL_65134eff8f44456293608e43c2ed4b6d",
      "max": 10,
      "min": 1,
      "orientation": "horizontal",
      "readout": true,
      "readout_format": ".2f",
      "step": 0.5,
      "style": "IPY_MODEL_a3bcfbf8e5e34a35b6995d8aa0cd98fd",
      "value": 5
     }
    },
    "943e50a31bb6440d95034d0ba42cff76": {
     "model_module": "@jupyter-widgets/base",
     "model_module_version": "1.2.0",
     "model_name": "LayoutModel",
     "state": {
      "_model_module": "@jupyter-widgets/base",
      "_model_module_version": "1.2.0",
      "_model_name": "LayoutModel",
      "_view_count": null,
      "_view_module": "@jupyter-widgets/base",
      "_view_module_version": "1.2.0",
      "_view_name": "LayoutView",
      "align_content": null,
      "align_items": null,
      "align_self": null,
      "border": null,
      "bottom": null,
      "display": null,
      "flex": null,
      "flex_flow": null,
      "grid_area": null,
      "grid_auto_columns": null,
      "grid_auto_flow": null,
      "grid_auto_rows": null,
      "grid_column": null,
      "grid_gap": null,
      "grid_row": null,
      "grid_template_areas": null,
      "grid_template_columns": null,
      "grid_template_rows": null,
      "height": null,
      "justify_content": null,
      "justify_items": null,
      "left": null,
      "margin": null,
      "max_height": null,
      "max_width": null,
      "min_height": null,
      "min_width": null,
      "object_fit": null,
      "object_position": null,
      "order": null,
      "overflow": null,
      "overflow_x": null,
      "overflow_y": null,
      "padding": null,
      "right": null,
      "top": null,
      "visibility": null,
      "width": null
     }
    },
    "944ba176e180490d9ccf2481c46960c5": {
     "model_module": "@jupyter-widgets/controls",
     "model_module_version": "1.5.0",
     "model_name": "DescriptionStyleModel",
     "state": {
      "_model_module": "@jupyter-widgets/controls",
      "_model_module_version": "1.5.0",
      "_model_name": "DescriptionStyleModel",
      "_view_count": null,
      "_view_module": "@jupyter-widgets/base",
      "_view_module_version": "1.2.0",
      "_view_name": "StyleView",
      "description_width": ""
     }
    },
    "9b6bfe918c3b45e1aabd1a4b80622925": {
     "model_module": "@jupyter-widgets/controls",
     "model_module_version": "1.5.0",
     "model_name": "FloatSliderModel",
     "state": {
      "_dom_classes": [],
      "_model_module": "@jupyter-widgets/controls",
      "_model_module_version": "1.5.0",
      "_model_name": "FloatSliderModel",
      "_view_count": null,
      "_view_module": "@jupyter-widgets/controls",
      "_view_module_version": "1.5.0",
      "_view_name": "FloatSliderView",
      "continuous_update": true,
      "description": "l2FC_up",
      "description_tooltip": null,
      "disabled": false,
      "layout": "IPY_MODEL_5cf4edfaa8484bea8e32ab508121e012",
      "max": 10,
      "min": 1,
      "orientation": "horizontal",
      "readout": true,
      "readout_format": ".2f",
      "step": 0.5,
      "style": "IPY_MODEL_dcee4f4beb284fc6a22f7ebb9f5362db",
      "value": 5
     }
    },
    "9b81006f71d14323ba9eb7725101a6fc": {
     "model_module": "@jupyter-widgets/controls",
     "model_module_version": "1.5.0",
     "model_name": "FloatSliderModel",
     "state": {
      "_dom_classes": [],
      "_model_module": "@jupyter-widgets/controls",
      "_model_module_version": "1.5.0",
      "_model_name": "FloatSliderModel",
      "_view_count": null,
      "_view_module": "@jupyter-widgets/controls",
      "_view_module_version": "1.5.0",
      "_view_name": "FloatSliderView",
      "continuous_update": true,
      "description": "pval",
      "description_tooltip": null,
      "disabled": false,
      "layout": "IPY_MODEL_a276dd5fbf014f4488980192ba3dc62e",
      "max": 0.5,
      "min": -0.5,
      "orientation": "horizontal",
      "readout": true,
      "readout_format": ".2f",
      "step": 0.05,
      "style": "IPY_MODEL_6f630767128b4e7a9b7a0d831e8da1d3",
      "value": 0
     }
    },
    "a276dd5fbf014f4488980192ba3dc62e": {
     "model_module": "@jupyter-widgets/base",
     "model_module_version": "1.2.0",
     "model_name": "LayoutModel",
     "state": {
      "_model_module": "@jupyter-widgets/base",
      "_model_module_version": "1.2.0",
      "_model_name": "LayoutModel",
      "_view_count": null,
      "_view_module": "@jupyter-widgets/base",
      "_view_module_version": "1.2.0",
      "_view_name": "LayoutView",
      "align_content": null,
      "align_items": null,
      "align_self": null,
      "border": null,
      "bottom": null,
      "display": null,
      "flex": null,
      "flex_flow": null,
      "grid_area": null,
      "grid_auto_columns": null,
      "grid_auto_flow": null,
      "grid_auto_rows": null,
      "grid_column": null,
      "grid_gap": null,
      "grid_row": null,
      "grid_template_areas": null,
      "grid_template_columns": null,
      "grid_template_rows": null,
      "height": null,
      "justify_content": null,
      "justify_items": null,
      "left": null,
      "margin": null,
      "max_height": null,
      "max_width": null,
      "min_height": null,
      "min_width": null,
      "object_fit": null,
      "object_position": null,
      "order": null,
      "overflow": null,
      "overflow_x": null,
      "overflow_y": null,
      "padding": null,
      "right": null,
      "top": null,
      "visibility": null,
      "width": null
     }
    },
    "a3bcfbf8e5e34a35b6995d8aa0cd98fd": {
     "model_module": "@jupyter-widgets/controls",
     "model_module_version": "1.5.0",
     "model_name": "SliderStyleModel",
     "state": {
      "_model_module": "@jupyter-widgets/controls",
      "_model_module_version": "1.5.0",
      "_model_name": "SliderStyleModel",
      "_view_count": null,
      "_view_module": "@jupyter-widgets/base",
      "_view_module_version": "1.2.0",
      "_view_name": "StyleView",
      "description_width": "",
      "handle_color": null
     }
    },
    "b180cfcdcdec45b1ac88a8adb1d853c8": {
     "model_module": "@jupyter-widgets/base",
     "model_module_version": "1.2.0",
     "model_name": "LayoutModel",
     "state": {
      "_model_module": "@jupyter-widgets/base",
      "_model_module_version": "1.2.0",
      "_model_name": "LayoutModel",
      "_view_count": null,
      "_view_module": "@jupyter-widgets/base",
      "_view_module_version": "1.2.0",
      "_view_name": "LayoutView",
      "align_content": null,
      "align_items": null,
      "align_self": null,
      "border": null,
      "bottom": null,
      "display": null,
      "flex": null,
      "flex_flow": null,
      "grid_area": null,
      "grid_auto_columns": null,
      "grid_auto_flow": null,
      "grid_auto_rows": null,
      "grid_column": null,
      "grid_gap": null,
      "grid_row": null,
      "grid_template_areas": null,
      "grid_template_columns": null,
      "grid_template_rows": null,
      "height": null,
      "justify_content": null,
      "justify_items": null,
      "left": null,
      "margin": null,
      "max_height": null,
      "max_width": null,
      "min_height": null,
      "min_width": null,
      "object_fit": null,
      "object_position": null,
      "order": null,
      "overflow": null,
      "overflow_x": null,
      "overflow_y": null,
      "padding": null,
      "right": null,
      "top": null,
      "visibility": null,
      "width": null
     }
    },
    "ca54b297e6ec41c8889793e1de5464d3": {
     "model_module": "@jupyter-widgets/base",
     "model_module_version": "1.2.0",
     "model_name": "LayoutModel",
     "state": {
      "_model_module": "@jupyter-widgets/base",
      "_model_module_version": "1.2.0",
      "_model_name": "LayoutModel",
      "_view_count": null,
      "_view_module": "@jupyter-widgets/base",
      "_view_module_version": "1.2.0",
      "_view_name": "LayoutView",
      "align_content": null,
      "align_items": null,
      "align_self": null,
      "border": null,
      "bottom": null,
      "display": null,
      "flex": null,
      "flex_flow": null,
      "grid_area": null,
      "grid_auto_columns": null,
      "grid_auto_flow": null,
      "grid_auto_rows": null,
      "grid_column": null,
      "grid_gap": null,
      "grid_row": null,
      "grid_template_areas": null,
      "grid_template_columns": null,
      "grid_template_rows": null,
      "height": null,
      "justify_content": null,
      "justify_items": null,
      "left": null,
      "margin": null,
      "max_height": null,
      "max_width": null,
      "min_height": null,
      "min_width": null,
      "object_fit": null,
      "object_position": null,
      "order": null,
      "overflow": null,
      "overflow_x": null,
      "overflow_y": null,
      "padding": null,
      "right": null,
      "top": null,
      "visibility": null,
      "width": null
     }
    },
    "cfd64967c6ed4210ab5cf2edec79953b": {
     "model_module": "@jupyter-widgets/controls",
     "model_module_version": "1.5.0",
     "model_name": "IntSliderModel",
     "state": {
      "_dom_classes": [],
      "_model_module": "@jupyter-widgets/controls",
      "_model_module_version": "1.5.0",
      "_model_name": "IntSliderModel",
      "_view_count": null,
      "_view_module": "@jupyter-widgets/controls",
      "_view_module_version": "1.5.0",
      "_view_name": "IntSliderView",
      "continuous_update": true,
      "description": "label_up",
      "description_tooltip": null,
      "disabled": false,
      "layout": "IPY_MODEL_50ff9da9503f4e929ef9c052efef2213",
      "max": 10,
      "min": 5,
      "orientation": "horizontal",
      "readout": true,
      "readout_format": "d",
      "step": 1,
      "style": "IPY_MODEL_47df73707a49459b8017953f05f91715",
      "value": 7
     }
    },
    "da99d4c0b1384434aaba6d63f8eb92cd": {
     "model_module": "@jupyter-widgets/controls",
     "model_module_version": "1.5.0",
     "model_name": "SliderStyleModel",
     "state": {
      "_model_module": "@jupyter-widgets/controls",
      "_model_module_version": "1.5.0",
      "_model_name": "SliderStyleModel",
      "_view_count": null,
      "_view_module": "@jupyter-widgets/base",
      "_view_module_version": "1.2.0",
      "_view_name": "StyleView",
      "description_width": "",
      "handle_color": null
     }
    },
    "db25a58a6d6943fbb9e13c6c170d425e": {
     "model_module": "@jupyter-widgets/controls",
     "model_module_version": "1.5.0",
     "model_name": "VBoxModel",
     "state": {
      "_dom_classes": [
       "widget-interact"
      ],
      "_model_module": "@jupyter-widgets/controls",
      "_model_module_version": "1.5.0",
      "_model_name": "VBoxModel",
      "_view_count": null,
      "_view_module": "@jupyter-widgets/controls",
      "_view_module_version": "1.5.0",
      "_view_name": "VBoxView",
      "box_style": "",
      "children": [
       "IPY_MODEL_61b629262e034631bb540f5c3550877e",
       "IPY_MODEL_9b81006f71d14323ba9eb7725101a6fc",
       "IPY_MODEL_9b6bfe918c3b45e1aabd1a4b80622925",
       "IPY_MODEL_023a8153d9d84420846b64af7e52aeeb",
       "IPY_MODEL_83adf03277554836bf50a3e36730ac3f"
      ],
      "layout": "IPY_MODEL_794eca2ed341415dacefb1abff46d059"
     }
    },
    "dcee4f4beb284fc6a22f7ebb9f5362db": {
     "model_module": "@jupyter-widgets/controls",
     "model_module_version": "1.5.0",
     "model_name": "SliderStyleModel",
     "state": {
      "_model_module": "@jupyter-widgets/controls",
      "_model_module_version": "1.5.0",
      "_model_name": "SliderStyleModel",
      "_view_count": null,
      "_view_module": "@jupyter-widgets/base",
      "_view_module_version": "1.2.0",
      "_view_name": "StyleView",
      "description_width": "",
      "handle_color": null
     }
    },
    "ef8d4622552947549ed5a3d56b328fe5": {
     "model_module": "@jupyter-widgets/base",
     "model_module_version": "1.2.0",
     "model_name": "LayoutModel",
     "state": {
      "_model_module": "@jupyter-widgets/base",
      "_model_module_version": "1.2.0",
      "_model_name": "LayoutModel",
      "_view_count": null,
      "_view_module": "@jupyter-widgets/base",
      "_view_module_version": "1.2.0",
      "_view_name": "LayoutView",
      "align_content": null,
      "align_items": null,
      "align_self": null,
      "border": null,
      "bottom": null,
      "display": null,
      "flex": null,
      "flex_flow": null,
      "grid_area": null,
      "grid_auto_columns": null,
      "grid_auto_flow": null,
      "grid_auto_rows": null,
      "grid_column": null,
      "grid_gap": null,
      "grid_row": null,
      "grid_template_areas": null,
      "grid_template_columns": null,
      "grid_template_rows": null,
      "height": null,
      "justify_content": null,
      "justify_items": null,
      "left": null,
      "margin": null,
      "max_height": null,
      "max_width": null,
      "min_height": null,
      "min_width": null,
      "object_fit": null,
      "object_position": null,
      "order": null,
      "overflow": null,
      "overflow_x": null,
      "overflow_y": null,
      "padding": null,
      "right": null,
      "top": null,
      "visibility": null,
      "width": null
     }
    },
    "f0c3737321584dcca111767454c3bede": {
     "model_module": "@jupyter-widgets/base",
     "model_module_version": "1.2.0",
     "model_name": "LayoutModel",
     "state": {
      "_model_module": "@jupyter-widgets/base",
      "_model_module_version": "1.2.0",
      "_model_name": "LayoutModel",
      "_view_count": null,
      "_view_module": "@jupyter-widgets/base",
      "_view_module_version": "1.2.0",
      "_view_name": "LayoutView",
      "align_content": null,
      "align_items": null,
      "align_self": null,
      "border": null,
      "bottom": null,
      "display": null,
      "flex": null,
      "flex_flow": null,
      "grid_area": null,
      "grid_auto_columns": null,
      "grid_auto_flow": null,
      "grid_auto_rows": null,
      "grid_column": null,
      "grid_gap": null,
      "grid_row": null,
      "grid_template_areas": null,
      "grid_template_columns": null,
      "grid_template_rows": null,
      "height": null,
      "justify_content": null,
      "justify_items": null,
      "left": null,
      "margin": null,
      "max_height": null,
      "max_width": null,
      "min_height": null,
      "min_width": null,
      "object_fit": null,
      "object_position": null,
      "order": null,
      "overflow": null,
      "overflow_x": null,
      "overflow_y": null,
      "padding": null,
      "right": null,
      "top": null,
      "visibility": null,
      "width": null
     }
    },
    "f326be6950f44350aa9eb5fc95cc2f1e": {
     "model_module": "@jupyter-widgets/controls",
     "model_module_version": "1.5.0",
     "model_name": "FloatSliderModel",
     "state": {
      "_dom_classes": [],
      "_model_module": "@jupyter-widgets/controls",
      "_model_module_version": "1.5.0",
      "_model_name": "FloatSliderModel",
      "_view_count": null,
      "_view_module": "@jupyter-widgets/controls",
      "_view_module_version": "1.5.0",
      "_view_name": "FloatSliderView",
      "continuous_update": true,
      "description": "pval",
      "description_tooltip": null,
      "disabled": false,
      "layout": "IPY_MODEL_943e50a31bb6440d95034d0ba42cff76",
      "max": 0.5,
      "min": -0.5,
      "orientation": "horizontal",
      "readout": true,
      "readout_format": ".2f",
      "step": 0.05,
      "style": "IPY_MODEL_3cde30f597b640d29e5cecf39733f65d",
      "value": 0
     }
    },
    "fd3bda305b354ba58a295f2abcf235cf": {
     "model_module": "@jupyter-widgets/controls",
     "model_module_version": "1.5.0",
     "model_name": "FloatSliderModel",
     "state": {
      "_dom_classes": [],
      "_model_module": "@jupyter-widgets/controls",
      "_model_module_version": "1.5.0",
      "_model_name": "FloatSliderModel",
      "_view_count": null,
      "_view_module": "@jupyter-widgets/controls",
      "_view_module_version": "1.5.0",
      "_view_name": "FloatSliderView",
      "continuous_update": true,
      "description": "l2FC_down",
      "description_tooltip": null,
      "disabled": false,
      "layout": "IPY_MODEL_b180cfcdcdec45b1ac88a8adb1d853c8",
      "max": -1,
      "min": -10,
      "orientation": "horizontal",
      "readout": true,
      "readout_format": ".2f",
      "step": 0.5,
      "style": "IPY_MODEL_da99d4c0b1384434aaba6d63f8eb92cd",
      "value": -6
     }
    }
   }
  }
 },
 "nbformat": 4,
 "nbformat_minor": 5
}
